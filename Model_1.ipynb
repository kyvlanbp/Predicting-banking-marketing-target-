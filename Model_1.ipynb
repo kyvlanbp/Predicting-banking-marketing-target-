{
 "cells": [
  {
   "cell_type": "markdown",
   "metadata": {},
   "source": [
    "### Import Library"
   ]
  },
  {
   "cell_type": "code",
   "execution_count": 1,
   "metadata": {},
   "outputs": [],
   "source": [
    "import warnings\n",
    "warnings.filterwarnings('ignore')"
   ]
  },
  {
   "cell_type": "code",
   "execution_count": 2,
   "metadata": {},
   "outputs": [],
   "source": [
    "import numpy as np\n",
    "import pandas as pd\n",
    "import matplotlib.pyplot as plt\n",
    "import seaborn as sns\n",
    "import pickle\n",
    "\n",
    "from sklearn.model_selection import train_test_split\n",
    "from sklearn.pipeline import Pipeline\n",
    "from sklearn.preprocessing import MinMaxScaler, OneHotEncoder\n",
    "from sklearn.compose import ColumnTransformer\n",
    "from sklearn.neighbors import KNeighborsClassifier\n",
    "from sklearn.svm import SVC\n",
    "from sklearn.model_selection import GridSearchCV\n",
    "from sklearn.metrics import classification_report, confusion_matrix, roc_curve, auc\n",
    "from sklearn.inspection import permutation_importance"
   ]
  },
  {
   "cell_type": "markdown",
   "metadata": {},
   "source": [
    "### Load Dataset"
   ]
  },
  {
   "cell_type": "code",
   "execution_count": 3,
   "metadata": {
    "scrolled": false
   },
   "outputs": [],
   "source": [
    "df = pd.read_csv('data/processed_train.csv') #train and test data\n",
    "val = pd.read_csv('data/processed_test.csv') #validation data"
   ]
  },
  {
   "cell_type": "markdown",
   "metadata": {},
   "source": [
    "### Train Test Split"
   ]
  },
  {
   "cell_type": "code",
   "execution_count": 4,
   "metadata": {},
   "outputs": [
    {
     "data": {
      "text/plain": [
       "((800, 13), (200, 13), (800,), (200,))"
      ]
     },
     "execution_count": 4,
     "metadata": {},
     "output_type": "execute_result"
    }
   ],
   "source": [
    "X = df.drop(columns=[\"y\"])\n",
    "y = df.y\n",
    "\n",
    "X_train, X_test, y_train, y_test = train_test_split(X, y, test_size=0.2, stratify=y, random_state=42)\n",
    "X_train.shape, X_test.shape, y_train.shape, y_test.shape"
   ]
  },
  {
   "cell_type": "code",
   "execution_count": 5,
   "metadata": {},
   "outputs": [
    {
     "data": {
      "text/html": [
       "<div>\n",
       "<style scoped>\n",
       "    .dataframe tbody tr th:only-of-type {\n",
       "        vertical-align: middle;\n",
       "    }\n",
       "\n",
       "    .dataframe tbody tr th {\n",
       "        vertical-align: top;\n",
       "    }\n",
       "\n",
       "    .dataframe thead th {\n",
       "        text-align: right;\n",
       "    }\n",
       "</style>\n",
       "<table border=\"1\" class=\"dataframe\">\n",
       "  <thead>\n",
       "    <tr style=\"text-align: right;\">\n",
       "      <th></th>\n",
       "      <th>age</th>\n",
       "      <th>job</th>\n",
       "      <th>marital</th>\n",
       "      <th>education</th>\n",
       "      <th>default</th>\n",
       "      <th>balance</th>\n",
       "      <th>housing</th>\n",
       "      <th>loan</th>\n",
       "      <th>contact</th>\n",
       "      <th>month</th>\n",
       "      <th>duration</th>\n",
       "      <th>campaign</th>\n",
       "      <th>poutcome</th>\n",
       "    </tr>\n",
       "  </thead>\n",
       "  <tbody>\n",
       "    <tr>\n",
       "      <th>920</th>\n",
       "      <td>43</td>\n",
       "      <td>blue-collar</td>\n",
       "      <td>married</td>\n",
       "      <td>secondary</td>\n",
       "      <td>no</td>\n",
       "      <td>184</td>\n",
       "      <td>no</td>\n",
       "      <td>yes</td>\n",
       "      <td>cellular</td>\n",
       "      <td>jul</td>\n",
       "      <td>1019</td>\n",
       "      <td>11</td>\n",
       "      <td>unknown</td>\n",
       "    </tr>\n",
       "    <tr>\n",
       "      <th>550</th>\n",
       "      <td>35</td>\n",
       "      <td>admin.</td>\n",
       "      <td>married</td>\n",
       "      <td>secondary</td>\n",
       "      <td>no</td>\n",
       "      <td>-87</td>\n",
       "      <td>yes</td>\n",
       "      <td>no</td>\n",
       "      <td>cellular</td>\n",
       "      <td>jun</td>\n",
       "      <td>1363</td>\n",
       "      <td>7</td>\n",
       "      <td>unknown</td>\n",
       "    </tr>\n",
       "    <tr>\n",
       "      <th>303</th>\n",
       "      <td>55</td>\n",
       "      <td>blue-collar</td>\n",
       "      <td>married</td>\n",
       "      <td>primary</td>\n",
       "      <td>no</td>\n",
       "      <td>1649</td>\n",
       "      <td>yes</td>\n",
       "      <td>no</td>\n",
       "      <td>cellular</td>\n",
       "      <td>may</td>\n",
       "      <td>52</td>\n",
       "      <td>3</td>\n",
       "      <td>unknown</td>\n",
       "    </tr>\n",
       "    <tr>\n",
       "      <th>184</th>\n",
       "      <td>35</td>\n",
       "      <td>technician</td>\n",
       "      <td>single</td>\n",
       "      <td>tertiary</td>\n",
       "      <td>no</td>\n",
       "      <td>670</td>\n",
       "      <td>no</td>\n",
       "      <td>no</td>\n",
       "      <td>cellular</td>\n",
       "      <td>oct</td>\n",
       "      <td>301</td>\n",
       "      <td>2</td>\n",
       "      <td>unknown</td>\n",
       "    </tr>\n",
       "    <tr>\n",
       "      <th>501</th>\n",
       "      <td>39</td>\n",
       "      <td>technician</td>\n",
       "      <td>married</td>\n",
       "      <td>tertiary</td>\n",
       "      <td>no</td>\n",
       "      <td>1524</td>\n",
       "      <td>no</td>\n",
       "      <td>no</td>\n",
       "      <td>cellular</td>\n",
       "      <td>apr</td>\n",
       "      <td>567</td>\n",
       "      <td>1</td>\n",
       "      <td>unknown</td>\n",
       "    </tr>\n",
       "    <tr>\n",
       "      <th>...</th>\n",
       "      <td>...</td>\n",
       "      <td>...</td>\n",
       "      <td>...</td>\n",
       "      <td>...</td>\n",
       "      <td>...</td>\n",
       "      <td>...</td>\n",
       "      <td>...</td>\n",
       "      <td>...</td>\n",
       "      <td>...</td>\n",
       "      <td>...</td>\n",
       "      <td>...</td>\n",
       "      <td>...</td>\n",
       "      <td>...</td>\n",
       "    </tr>\n",
       "    <tr>\n",
       "      <th>781</th>\n",
       "      <td>40</td>\n",
       "      <td>management</td>\n",
       "      <td>married</td>\n",
       "      <td>tertiary</td>\n",
       "      <td>no</td>\n",
       "      <td>0</td>\n",
       "      <td>yes</td>\n",
       "      <td>no</td>\n",
       "      <td>cellular</td>\n",
       "      <td>mar</td>\n",
       "      <td>506</td>\n",
       "      <td>2</td>\n",
       "      <td>unknown</td>\n",
       "    </tr>\n",
       "    <tr>\n",
       "      <th>818</th>\n",
       "      <td>33</td>\n",
       "      <td>student</td>\n",
       "      <td>married</td>\n",
       "      <td>secondary</td>\n",
       "      <td>no</td>\n",
       "      <td>1536</td>\n",
       "      <td>no</td>\n",
       "      <td>no</td>\n",
       "      <td>cellular</td>\n",
       "      <td>aug</td>\n",
       "      <td>258</td>\n",
       "      <td>2</td>\n",
       "      <td>success</td>\n",
       "    </tr>\n",
       "    <tr>\n",
       "      <th>926</th>\n",
       "      <td>63</td>\n",
       "      <td>retired</td>\n",
       "      <td>married</td>\n",
       "      <td>secondary</td>\n",
       "      <td>no</td>\n",
       "      <td>538</td>\n",
       "      <td>no</td>\n",
       "      <td>no</td>\n",
       "      <td>cellular</td>\n",
       "      <td>aug</td>\n",
       "      <td>373</td>\n",
       "      <td>2</td>\n",
       "      <td>unknown</td>\n",
       "    </tr>\n",
       "    <tr>\n",
       "      <th>578</th>\n",
       "      <td>29</td>\n",
       "      <td>technician</td>\n",
       "      <td>married</td>\n",
       "      <td>tertiary</td>\n",
       "      <td>no</td>\n",
       "      <td>1413</td>\n",
       "      <td>yes</td>\n",
       "      <td>no</td>\n",
       "      <td>cellular</td>\n",
       "      <td>jul</td>\n",
       "      <td>170</td>\n",
       "      <td>4</td>\n",
       "      <td>unknown</td>\n",
       "    </tr>\n",
       "    <tr>\n",
       "      <th>746</th>\n",
       "      <td>31</td>\n",
       "      <td>blue-collar</td>\n",
       "      <td>single</td>\n",
       "      <td>primary</td>\n",
       "      <td>no</td>\n",
       "      <td>-495</td>\n",
       "      <td>yes</td>\n",
       "      <td>no</td>\n",
       "      <td>cellular</td>\n",
       "      <td>may</td>\n",
       "      <td>334</td>\n",
       "      <td>2</td>\n",
       "      <td>unknown</td>\n",
       "    </tr>\n",
       "  </tbody>\n",
       "</table>\n",
       "<p>800 rows × 13 columns</p>\n",
       "</div>"
      ],
      "text/plain": [
       "     age          job  marital  education default  balance housing loan  \\\n",
       "920   43  blue-collar  married  secondary      no      184      no  yes   \n",
       "550   35       admin.  married  secondary      no      -87     yes   no   \n",
       "303   55  blue-collar  married    primary      no     1649     yes   no   \n",
       "184   35   technician   single   tertiary      no      670      no   no   \n",
       "501   39   technician  married   tertiary      no     1524      no   no   \n",
       "..   ...          ...      ...        ...     ...      ...     ...  ...   \n",
       "781   40   management  married   tertiary      no        0     yes   no   \n",
       "818   33      student  married  secondary      no     1536      no   no   \n",
       "926   63      retired  married  secondary      no      538      no   no   \n",
       "578   29   technician  married   tertiary      no     1413     yes   no   \n",
       "746   31  blue-collar   single    primary      no     -495     yes   no   \n",
       "\n",
       "      contact month  duration  campaign poutcome  \n",
       "920  cellular   jul      1019        11  unknown  \n",
       "550  cellular   jun      1363         7  unknown  \n",
       "303  cellular   may        52         3  unknown  \n",
       "184  cellular   oct       301         2  unknown  \n",
       "501  cellular   apr       567         1  unknown  \n",
       "..        ...   ...       ...       ...      ...  \n",
       "781  cellular   mar       506         2  unknown  \n",
       "818  cellular   aug       258         2  success  \n",
       "926  cellular   aug       373         2  unknown  \n",
       "578  cellular   jul       170         4  unknown  \n",
       "746  cellular   may       334         2  unknown  \n",
       "\n",
       "[800 rows x 13 columns]"
      ]
     },
     "execution_count": 5,
     "metadata": {},
     "output_type": "execute_result"
    }
   ],
   "source": [
    "X_train"
   ]
  },
  {
   "cell_type": "markdown",
   "metadata": {},
   "source": [
    "### Data Preprocessing"
   ]
  },
  {
   "cell_type": "code",
   "execution_count": 6,
   "metadata": {},
   "outputs": [],
   "source": [
    "nums = ['age', 'balance', 'duration']\n",
    "cats = ['job', 'marital', 'education', 'default', 'housing', 'loan', 'campaign', 'poutcome']"
   ]
  },
  {
   "cell_type": "code",
   "execution_count": 7,
   "metadata": {
    "scrolled": true
   },
   "outputs": [],
   "source": [
    "preprocessor = ColumnTransformer([\n",
    "    ('numeric',  Pipeline([('scaler', MinMaxScaler())]), nums),\n",
    "    ('categoric', Pipeline([('onehot', OneHotEncoder(handle_unknown='ignore'))]), cats)\n",
    "])"
   ]
  },
  {
   "cell_type": "markdown",
   "metadata": {},
   "source": [
    "### KNN Model"
   ]
  },
  {
   "cell_type": "markdown",
   "metadata": {},
   "source": [
    "##### Train tanpa Hyperparameter Tuning"
   ]
  },
  {
   "cell_type": "code",
   "execution_count": 8,
   "metadata": {},
   "outputs": [
    {
     "name": "stdout",
     "output_type": "stream",
     "text": [
      "Akurasi Train:  0.78 \n",
      "Akurasi Test:  0.755\n"
     ]
    }
   ],
   "source": [
    "pipeline = Pipeline([\n",
    "    ('prep', preprocessor),\n",
    "    ('algo', KNeighborsClassifier())\n",
    "])\n",
    "\n",
    "knn_model = pipeline.fit(X_train, y_train)\n",
    "\n",
    "print('Akurasi Train: ', knn_model.score(X_train, y_train), '\\nAkurasi Test: ',knn_model.score(X_test, y_test))"
   ]
  },
  {
   "cell_type": "markdown",
   "metadata": {},
   "source": [
    "##### Train dengan Hyperparameter Tuning"
   ]
  },
  {
   "cell_type": "code",
   "execution_count": 9,
   "metadata": {},
   "outputs": [],
   "source": [
    "knn_params = {'algo__n_neighbors': np.array([ 1,  3,  5,  7,  9, 11, 13, 15, 17, 19, 21, 23, 25, 27, 29]),\n",
    "              'algo__weights': ['uniform', 'distance'],\n",
    "              'algo__p': [1, 1.5, 2]}"
   ]
  },
  {
   "cell_type": "code",
   "execution_count": 10,
   "metadata": {},
   "outputs": [
    {
     "name": "stdout",
     "output_type": "stream",
     "text": [
      "Fitting 3 folds for each of 90 candidates, totalling 270 fits\n"
     ]
    },
    {
     "name": "stderr",
     "output_type": "stream",
     "text": [
      "[Parallel(n_jobs=-1)]: Using backend LokyBackend with 8 concurrent workers.\n",
      "[Parallel(n_jobs=-1)]: Done  34 tasks      | elapsed:    1.5s\n"
     ]
    },
    {
     "name": "stdout",
     "output_type": "stream",
     "text": [
      "{'algo__n_neighbors': 9, 'algo__p': 1, 'algo__weights': 'uniform'}\n",
      "0.7725 0.705011592652042 0.765\n"
     ]
    },
    {
     "name": "stderr",
     "output_type": "stream",
     "text": [
      "[Parallel(n_jobs=-1)]: Done 270 out of 270 | elapsed:    2.6s finished\n"
     ]
    }
   ],
   "source": [
    "pipeline = Pipeline([\n",
    "    ('prep', preprocessor),\n",
    "    ('algo', KNeighborsClassifier())\n",
    "])\n",
    "\n",
    "knn_model = GridSearchCV(pipeline, knn_params, cv=3, n_jobs=-1, verbose=1)\n",
    "knn_model.fit(X_train, y_train)\n",
    "\n",
    "print(knn_model.best_params_)\n",
    "print(knn_model.score(X_train, y_train), knn_model.best_score_, knn_model.score(X_test, y_test))"
   ]
  },
  {
   "cell_type": "code",
   "execution_count": 26,
   "metadata": {},
   "outputs": [
    {
     "data": {
      "text/html": [
       "<div>\n",
       "<style scoped>\n",
       "    .dataframe tbody tr th:only-of-type {\n",
       "        vertical-align: middle;\n",
       "    }\n",
       "\n",
       "    .dataframe tbody tr th {\n",
       "        vertical-align: top;\n",
       "    }\n",
       "\n",
       "    .dataframe thead th {\n",
       "        text-align: right;\n",
       "    }\n",
       "</style>\n",
       "<table border=\"1\" class=\"dataframe\">\n",
       "  <thead>\n",
       "    <tr style=\"text-align: right;\">\n",
       "      <th></th>\n",
       "      <th>algo__n_neighbors</th>\n",
       "      <th>algo__p</th>\n",
       "      <th>algo__weights</th>\n",
       "      <th>Accuracy CV1</th>\n",
       "      <th>Accuracy CV2</th>\n",
       "      <th>Accuracy CV3</th>\n",
       "      <th>Mean Accuracy</th>\n",
       "    </tr>\n",
       "  </thead>\n",
       "  <tbody>\n",
       "    <tr>\n",
       "      <th>28</th>\n",
       "      <td>9</td>\n",
       "      <td>2.0</td>\n",
       "      <td>uniform</td>\n",
       "      <td>0.692884</td>\n",
       "      <td>0.707865</td>\n",
       "      <td>0.714286</td>\n",
       "      <td>0.705012</td>\n",
       "    </tr>\n",
       "    <tr>\n",
       "      <th>24</th>\n",
       "      <td>9</td>\n",
       "      <td>1.0</td>\n",
       "      <td>uniform</td>\n",
       "      <td>0.692884</td>\n",
       "      <td>0.707865</td>\n",
       "      <td>0.714286</td>\n",
       "      <td>0.705012</td>\n",
       "    </tr>\n",
       "    <tr>\n",
       "      <th>22</th>\n",
       "      <td>7</td>\n",
       "      <td>2.0</td>\n",
       "      <td>uniform</td>\n",
       "      <td>0.704120</td>\n",
       "      <td>0.681648</td>\n",
       "      <td>0.725564</td>\n",
       "      <td>0.703777</td>\n",
       "    </tr>\n",
       "    <tr>\n",
       "      <th>18</th>\n",
       "      <td>7</td>\n",
       "      <td>1.0</td>\n",
       "      <td>uniform</td>\n",
       "      <td>0.700375</td>\n",
       "      <td>0.700375</td>\n",
       "      <td>0.699248</td>\n",
       "      <td>0.699999</td>\n",
       "    </tr>\n",
       "    <tr>\n",
       "      <th>34</th>\n",
       "      <td>11</td>\n",
       "      <td>2.0</td>\n",
       "      <td>uniform</td>\n",
       "      <td>0.707865</td>\n",
       "      <td>0.707865</td>\n",
       "      <td>0.684211</td>\n",
       "      <td>0.699980</td>\n",
       "    </tr>\n",
       "  </tbody>\n",
       "</table>\n",
       "</div>"
      ],
      "text/plain": [
       "    algo__n_neighbors  algo__p algo__weights  Accuracy CV1  Accuracy CV2  \\\n",
       "28                  9      2.0       uniform      0.692884      0.707865   \n",
       "24                  9      1.0       uniform      0.692884      0.707865   \n",
       "22                  7      2.0       uniform      0.704120      0.681648   \n",
       "18                  7      1.0       uniform      0.700375      0.700375   \n",
       "34                 11      2.0       uniform      0.707865      0.707865   \n",
       "\n",
       "    Accuracy CV3  Mean Accuracy  \n",
       "28      0.714286       0.705012  \n",
       "24      0.714286       0.705012  \n",
       "22      0.725564       0.703777  \n",
       "18      0.699248       0.699999  \n",
       "34      0.684211       0.699980  "
      ]
     },
     "execution_count": 26,
     "metadata": {},
     "output_type": "execute_result"
    }
   ],
   "source": [
    "knn_cv = pd.concat([pd.DataFrame(knn_model.cv_results_[\"params\"]),\n",
    "                   pd.DataFrame(knn_model.cv_results_[\"split0_test_score\"], columns=[\"Accuracy CV1\"]),\n",
    "                   pd.DataFrame(knn_model.cv_results_[\"split1_test_score\"], columns=[\"Accuracy CV2\"]),\n",
    "                   pd.DataFrame(knn_model.cv_results_[\"split2_test_score\"], columns=[\"Accuracy CV3\"]),\n",
    "                   pd.DataFrame(knn_model.cv_results_[\"mean_test_score\"], columns=[\"Mean Accuracy\"])],\n",
    "                   axis=1)\n",
    "knn_cv.sort_values(by='Mean Accuracy', ascending=False).head()"
   ]
  },
  {
   "cell_type": "markdown",
   "metadata": {},
   "source": [
    "Dilakukan hyperparameter tuning berupa Gridsearch CV dengan 3 Fold. Adapun parameter yang di optimasi adalah:\n",
    "- n neighbors : Rentang 1 - 29, 9 adalah n terbaik\n",
    "- weights : uniform atau distance, uniform adalah weight terbaik\n",
    "- p : 1, 1.5, 2, dengan 1 adalah p terbaik"
   ]
  },
  {
   "cell_type": "markdown",
   "metadata": {},
   "source": [
    "### SVM Model"
   ]
  },
  {
   "cell_type": "markdown",
   "metadata": {},
   "source": [
    "##### Train tanpa Hyperparameter Tuning"
   ]
  },
  {
   "cell_type": "code",
   "execution_count": 12,
   "metadata": {},
   "outputs": [
    {
     "name": "stdout",
     "output_type": "stream",
     "text": [
      "Akurasi Train:  0.79875 \n",
      "Akurasi Test:  0.78\n"
     ]
    }
   ],
   "source": [
    "pipeline = Pipeline([\n",
    "    ('prep', preprocessor),\n",
    "    ('algo', SVC())\n",
    "])\n",
    "\n",
    "svc_model = pipeline.fit(X_train, y_train)\n",
    "\n",
    "print('Akurasi Train: ', svc_model.score(X_train, y_train), '\\nAkurasi Test: ', svc_model.score(X_test, y_test))"
   ]
  },
  {
   "cell_type": "markdown",
   "metadata": {},
   "source": [
    "##### Train dengan Hyperparameter Tuning"
   ]
  },
  {
   "cell_type": "code",
   "execution_count": 13,
   "metadata": {},
   "outputs": [],
   "source": [
    "svm_params = {'algo__gamma': np.array([1.e-03, 1.e-02, 1.e-01, 1.e+00, 1.e+01, 1.e+02, 1.e+03]),\n",
    "              'algo__C': np.array([1.e-03, 1.e-02, 1.e-01, 1.e+00, 1.e+01, 1.e+02, 1.e+03])}"
   ]
  },
  {
   "cell_type": "code",
   "execution_count": 14,
   "metadata": {},
   "outputs": [
    {
     "name": "stdout",
     "output_type": "stream",
     "text": [
      "Fitting 3 folds for each of 49 candidates, totalling 147 fits\n"
     ]
    },
    {
     "name": "stderr",
     "output_type": "stream",
     "text": [
      "[Parallel(n_jobs=-1)]: Using backend LokyBackend with 8 concurrent workers.\n",
      "[Parallel(n_jobs=-1)]: Done  52 tasks      | elapsed:    1.2s\n",
      "[Parallel(n_jobs=-1)]: Done 132 out of 147 | elapsed:    2.9s remaining:    0.3s\n",
      "[Parallel(n_jobs=-1)]: Done 147 out of 147 | elapsed:    3.1s finished\n"
     ]
    },
    {
     "name": "stdout",
     "output_type": "stream",
     "text": [
      "{'algo__C': 1000.0, 'algo__gamma': 0.001}\n",
      "0.81375 0.7837571456731718 0.825\n"
     ]
    }
   ],
   "source": [
    "pipeline = Pipeline([\n",
    "    ('prep', preprocessor),\n",
    "    ('algo', SVC(max_iter=500, probability=True))\n",
    "])\n",
    "\n",
    "svm_model = GridSearchCV(pipeline, svm_params, cv=3, n_jobs=-1, verbose=1)\n",
    "svm_model.fit(X_train, y_train)\n",
    "\n",
    "print(svm_model.best_params_)\n",
    "print(svm_model.score(X_train, y_train), svm_model.best_score_, svm_model.score(X_test, y_test))"
   ]
  },
  {
   "cell_type": "code",
   "execution_count": 27,
   "metadata": {},
   "outputs": [
    {
     "data": {
      "text/html": [
       "<div>\n",
       "<style scoped>\n",
       "    .dataframe tbody tr th:only-of-type {\n",
       "        vertical-align: middle;\n",
       "    }\n",
       "\n",
       "    .dataframe tbody tr th {\n",
       "        vertical-align: top;\n",
       "    }\n",
       "\n",
       "    .dataframe thead th {\n",
       "        text-align: right;\n",
       "    }\n",
       "</style>\n",
       "<table border=\"1\" class=\"dataframe\">\n",
       "  <thead>\n",
       "    <tr style=\"text-align: right;\">\n",
       "      <th></th>\n",
       "      <th>algo__C</th>\n",
       "      <th>algo__gamma</th>\n",
       "      <th>Accuracy CV1</th>\n",
       "      <th>Accuracy CV2</th>\n",
       "      <th>Accuracy CV3</th>\n",
       "      <th>Mean Accuracy</th>\n",
       "    </tr>\n",
       "  </thead>\n",
       "  <tbody>\n",
       "    <tr>\n",
       "      <th>42</th>\n",
       "      <td>1000.0</td>\n",
       "      <td>0.001</td>\n",
       "      <td>0.786517</td>\n",
       "      <td>0.775281</td>\n",
       "      <td>0.789474</td>\n",
       "      <td>0.783757</td>\n",
       "    </tr>\n",
       "    <tr>\n",
       "      <th>36</th>\n",
       "      <td>100.0</td>\n",
       "      <td>0.010</td>\n",
       "      <td>0.805243</td>\n",
       "      <td>0.771536</td>\n",
       "      <td>0.759398</td>\n",
       "      <td>0.778726</td>\n",
       "    </tr>\n",
       "    <tr>\n",
       "      <th>30</th>\n",
       "      <td>10.0</td>\n",
       "      <td>0.100</td>\n",
       "      <td>0.741573</td>\n",
       "      <td>0.760300</td>\n",
       "      <td>0.740602</td>\n",
       "      <td>0.747491</td>\n",
       "    </tr>\n",
       "    <tr>\n",
       "      <th>43</th>\n",
       "      <td>1000.0</td>\n",
       "      <td>0.010</td>\n",
       "      <td>0.707865</td>\n",
       "      <td>0.756554</td>\n",
       "      <td>0.774436</td>\n",
       "      <td>0.746285</td>\n",
       "    </tr>\n",
       "    <tr>\n",
       "      <th>37</th>\n",
       "      <td>100.0</td>\n",
       "      <td>0.100</td>\n",
       "      <td>0.715356</td>\n",
       "      <td>0.719101</td>\n",
       "      <td>0.778195</td>\n",
       "      <td>0.737551</td>\n",
       "    </tr>\n",
       "  </tbody>\n",
       "</table>\n",
       "</div>"
      ],
      "text/plain": [
       "    algo__C  algo__gamma  Accuracy CV1  Accuracy CV2  Accuracy CV3  \\\n",
       "42   1000.0        0.001      0.786517      0.775281      0.789474   \n",
       "36    100.0        0.010      0.805243      0.771536      0.759398   \n",
       "30     10.0        0.100      0.741573      0.760300      0.740602   \n",
       "43   1000.0        0.010      0.707865      0.756554      0.774436   \n",
       "37    100.0        0.100      0.715356      0.719101      0.778195   \n",
       "\n",
       "    Mean Accuracy  \n",
       "42       0.783757  \n",
       "36       0.778726  \n",
       "30       0.747491  \n",
       "43       0.746285  \n",
       "37       0.737551  "
      ]
     },
     "execution_count": 27,
     "metadata": {},
     "output_type": "execute_result"
    }
   ],
   "source": [
    "svm_cv = pd.concat([pd.DataFrame(svm_model.cv_results_[\"params\"]),\n",
    "                   pd.DataFrame(svm_model.cv_results_[\"split0_test_score\"], columns=[\"Accuracy CV1\"]),\n",
    "                   pd.DataFrame(svm_model.cv_results_[\"split1_test_score\"], columns=[\"Accuracy CV2\"]),\n",
    "                   pd.DataFrame(svm_model.cv_results_[\"split2_test_score\"], columns=[\"Accuracy CV3\"]),\n",
    "                   pd.DataFrame(svm_model.cv_results_[\"mean_test_score\"], columns=[\"Mean Accuracy\"])],\n",
    "                   axis=1)\n",
    "svm_cv.sort_values(by='Mean Accuracy', ascending=False).head()"
   ]
  },
  {
   "cell_type": "markdown",
   "metadata": {},
   "source": [
    "Dilakukan hyperparameter tuning berupa Gridsearch CV dengan 3 Fold. Adapun parameter yang di optimasi adalah:\n",
    "- gamma : Rentang log -3 sampai 3, 0.001 adalah gamma terbaik\n",
    "- C : Rentang log -3 sampai 3, 1000 adalah C terbaik"
   ]
  },
  {
   "cell_type": "markdown",
   "metadata": {},
   "source": [
    "### Feature Importance"
   ]
  },
  {
   "cell_type": "code",
   "execution_count": 16,
   "metadata": {},
   "outputs": [],
   "source": [
    "imp = permutation_importance(svc_model, X_train, y_train, n_repeats=5, n_jobs=1, random_state=42)"
   ]
  },
  {
   "cell_type": "code",
   "execution_count": 17,
   "metadata": {},
   "outputs": [
    {
     "data": {
      "text/html": [
       "<div>\n",
       "<style scoped>\n",
       "    .dataframe tbody tr th:only-of-type {\n",
       "        vertical-align: middle;\n",
       "    }\n",
       "\n",
       "    .dataframe tbody tr th {\n",
       "        vertical-align: top;\n",
       "    }\n",
       "\n",
       "    .dataframe thead th {\n",
       "        text-align: right;\n",
       "    }\n",
       "</style>\n",
       "<table border=\"1\" class=\"dataframe\">\n",
       "  <thead>\n",
       "    <tr style=\"text-align: right;\">\n",
       "      <th></th>\n",
       "      <th>feature</th>\n",
       "      <th>importance</th>\n",
       "      <th>stdev</th>\n",
       "    </tr>\n",
       "  </thead>\n",
       "  <tbody>\n",
       "    <tr>\n",
       "      <th>6</th>\n",
       "      <td>housing</td>\n",
       "      <td>0.08300</td>\n",
       "      <td>0.011769</td>\n",
       "    </tr>\n",
       "    <tr>\n",
       "      <th>10</th>\n",
       "      <td>duration</td>\n",
       "      <td>0.07200</td>\n",
       "      <td>0.006052</td>\n",
       "    </tr>\n",
       "    <tr>\n",
       "      <th>12</th>\n",
       "      <td>poutcome</td>\n",
       "      <td>0.06675</td>\n",
       "      <td>0.013933</td>\n",
       "    </tr>\n",
       "    <tr>\n",
       "      <th>11</th>\n",
       "      <td>campaign</td>\n",
       "      <td>0.04675</td>\n",
       "      <td>0.004373</td>\n",
       "    </tr>\n",
       "    <tr>\n",
       "      <th>1</th>\n",
       "      <td>job</td>\n",
       "      <td>0.04225</td>\n",
       "      <td>0.006344</td>\n",
       "    </tr>\n",
       "    <tr>\n",
       "      <th>3</th>\n",
       "      <td>education</td>\n",
       "      <td>0.03025</td>\n",
       "      <td>0.011948</td>\n",
       "    </tr>\n",
       "    <tr>\n",
       "      <th>2</th>\n",
       "      <td>marital</td>\n",
       "      <td>0.01125</td>\n",
       "      <td>0.003791</td>\n",
       "    </tr>\n",
       "    <tr>\n",
       "      <th>7</th>\n",
       "      <td>loan</td>\n",
       "      <td>0.01100</td>\n",
       "      <td>0.001658</td>\n",
       "    </tr>\n",
       "    <tr>\n",
       "      <th>0</th>\n",
       "      <td>age</td>\n",
       "      <td>0.00250</td>\n",
       "      <td>0.000791</td>\n",
       "    </tr>\n",
       "    <tr>\n",
       "      <th>4</th>\n",
       "      <td>default</td>\n",
       "      <td>0.00125</td>\n",
       "      <td>0.000000</td>\n",
       "    </tr>\n",
       "    <tr>\n",
       "      <th>5</th>\n",
       "      <td>balance</td>\n",
       "      <td>0.00050</td>\n",
       "      <td>0.001000</td>\n",
       "    </tr>\n",
       "    <tr>\n",
       "      <th>8</th>\n",
       "      <td>contact</td>\n",
       "      <td>0.00000</td>\n",
       "      <td>0.000000</td>\n",
       "    </tr>\n",
       "    <tr>\n",
       "      <th>9</th>\n",
       "      <td>month</td>\n",
       "      <td>0.00000</td>\n",
       "      <td>0.000000</td>\n",
       "    </tr>\n",
       "  </tbody>\n",
       "</table>\n",
       "</div>"
      ],
      "text/plain": [
       "      feature  importance     stdev\n",
       "6     housing     0.08300  0.011769\n",
       "10   duration     0.07200  0.006052\n",
       "12   poutcome     0.06675  0.013933\n",
       "11   campaign     0.04675  0.004373\n",
       "1         job     0.04225  0.006344\n",
       "3   education     0.03025  0.011948\n",
       "2     marital     0.01125  0.003791\n",
       "7        loan     0.01100  0.001658\n",
       "0         age     0.00250  0.000791\n",
       "4     default     0.00125  0.000000\n",
       "5     balance     0.00050  0.001000\n",
       "8     contact     0.00000  0.000000\n",
       "9       month     0.00000  0.000000"
      ]
     },
     "execution_count": 17,
     "metadata": {},
     "output_type": "execute_result"
    }
   ],
   "source": [
    "df_imp = pd.DataFrame({\"feature\": X_train.columns,\n",
    "                       \"importance\": imp[\"importances_mean\"],\n",
    "                       \"stdev\": imp[\"importances_std\"]\n",
    "                      }).sort_values(\"importance\", ascending=False)\n",
    "df_imp"
   ]
  },
  {
   "cell_type": "code",
   "execution_count": 18,
   "metadata": {},
   "outputs": [
    {
     "data": {
      "text/html": [
       "<div>\n",
       "<style scoped>\n",
       "    .dataframe tbody tr th:only-of-type {\n",
       "        vertical-align: middle;\n",
       "    }\n",
       "\n",
       "    .dataframe tbody tr th {\n",
       "        vertical-align: top;\n",
       "    }\n",
       "\n",
       "    .dataframe thead th {\n",
       "        text-align: right;\n",
       "    }\n",
       "</style>\n",
       "<table border=\"1\" class=\"dataframe\">\n",
       "  <thead>\n",
       "    <tr style=\"text-align: right;\">\n",
       "      <th></th>\n",
       "      <th>feature</th>\n",
       "      <th>importance</th>\n",
       "      <th>stdev</th>\n",
       "    </tr>\n",
       "  </thead>\n",
       "  <tbody>\n",
       "    <tr>\n",
       "      <th>6</th>\n",
       "      <td>housing</td>\n",
       "      <td>0.225850</td>\n",
       "      <td>0.032023</td>\n",
       "    </tr>\n",
       "    <tr>\n",
       "      <th>10</th>\n",
       "      <td>duration</td>\n",
       "      <td>0.195918</td>\n",
       "      <td>0.016468</td>\n",
       "    </tr>\n",
       "    <tr>\n",
       "      <th>12</th>\n",
       "      <td>poutcome</td>\n",
       "      <td>0.181633</td>\n",
       "      <td>0.037913</td>\n",
       "    </tr>\n",
       "    <tr>\n",
       "      <th>11</th>\n",
       "      <td>campaign</td>\n",
       "      <td>0.127211</td>\n",
       "      <td>0.011900</td>\n",
       "    </tr>\n",
       "    <tr>\n",
       "      <th>1</th>\n",
       "      <td>job</td>\n",
       "      <td>0.114966</td>\n",
       "      <td>0.017263</td>\n",
       "    </tr>\n",
       "    <tr>\n",
       "      <th>3</th>\n",
       "      <td>education</td>\n",
       "      <td>0.082313</td>\n",
       "      <td>0.032511</td>\n",
       "    </tr>\n",
       "    <tr>\n",
       "      <th>2</th>\n",
       "      <td>marital</td>\n",
       "      <td>0.030612</td>\n",
       "      <td>0.010317</td>\n",
       "    </tr>\n",
       "    <tr>\n",
       "      <th>7</th>\n",
       "      <td>loan</td>\n",
       "      <td>0.029932</td>\n",
       "      <td>0.004512</td>\n",
       "    </tr>\n",
       "    <tr>\n",
       "      <th>0</th>\n",
       "      <td>age</td>\n",
       "      <td>0.006803</td>\n",
       "      <td>0.002151</td>\n",
       "    </tr>\n",
       "    <tr>\n",
       "      <th>4</th>\n",
       "      <td>default</td>\n",
       "      <td>0.003401</td>\n",
       "      <td>0.000000</td>\n",
       "    </tr>\n",
       "    <tr>\n",
       "      <th>5</th>\n",
       "      <td>balance</td>\n",
       "      <td>0.001361</td>\n",
       "      <td>0.002721</td>\n",
       "    </tr>\n",
       "    <tr>\n",
       "      <th>8</th>\n",
       "      <td>contact</td>\n",
       "      <td>0.000000</td>\n",
       "      <td>0.000000</td>\n",
       "    </tr>\n",
       "    <tr>\n",
       "      <th>9</th>\n",
       "      <td>month</td>\n",
       "      <td>0.000000</td>\n",
       "      <td>0.000000</td>\n",
       "    </tr>\n",
       "  </tbody>\n",
       "</table>\n",
       "</div>"
      ],
      "text/plain": [
       "      feature  importance     stdev\n",
       "6     housing    0.225850  0.032023\n",
       "10   duration    0.195918  0.016468\n",
       "12   poutcome    0.181633  0.037913\n",
       "11   campaign    0.127211  0.011900\n",
       "1         job    0.114966  0.017263\n",
       "3   education    0.082313  0.032511\n",
       "2     marital    0.030612  0.010317\n",
       "7        loan    0.029932  0.004512\n",
       "0         age    0.006803  0.002151\n",
       "4     default    0.003401  0.000000\n",
       "5     balance    0.001361  0.002721\n",
       "8     contact    0.000000  0.000000\n",
       "9       month    0.000000  0.000000"
      ]
     },
     "execution_count": 18,
     "metadata": {},
     "output_type": "execute_result"
    }
   ],
   "source": [
    "# Normalize\n",
    "\n",
    "df_imp[[\"importance\", \"stdev\"]] = df_imp[[\"importance\", \"stdev\"]] / df_imp.importance.sum()\n",
    "df_imp"
   ]
  },
  {
   "cell_type": "code",
   "execution_count": 19,
   "metadata": {},
   "outputs": [
    {
     "data": {
      "image/png": "[encoded data removed]",
      "text/plain": [
       "<Figure size 1080x360 with 1 Axes>"
      ]
     },
     "metadata": {
      "needs_background": "light"
     },
     "output_type": "display_data"
    }
   ],
   "source": [
    "plt.figure(figsize=(15, 5))\n",
    "plt.bar(range(len(df_imp)), df_imp.importance, yerr=df_imp.stdev, color='c', error_kw={\"capsize\": 5})\n",
    "plt.xticks(range(len(df_imp)), df_imp.feature, rotation=45, horizontalalignment='right')\n",
    "plt.ylabel('importance')\n",
    "plt.title(\"Mean Score Decrease\", fontsize=14);\n"
   ]
  },
  {
   "cell_type": "markdown",
   "metadata": {},
   "source": [
    "Terlihat dari plot feature importance, bahwa feature housing dan duration memegang peranan penting dalam pembuatan model SVM. Sedangkan feature contact dan month terlihat tidak terlalu penting dalam feature importance ini."
   ]
  },
  {
   "cell_type": "markdown",
   "metadata": {},
   "source": [
    "### Save Model"
   ]
  },
  {
   "cell_type": "code",
   "execution_count": 20,
   "metadata": {},
   "outputs": [],
   "source": [
    "pickle.dump(knn_model, open('model/knn_model.pkl', 'wb'))\n",
    "pickle.dump(svm_model, open('model/svm_model.pkl', 'wb'))"
   ]
  },
  {
   "cell_type": "markdown",
   "metadata": {},
   "source": [
    "### Evaluation"
   ]
  },
  {
   "cell_type": "markdown",
   "metadata": {},
   "source": [
    "Evaluasi dilakukan pada dataset Test yang belum pernah dilihat oleh model sebelumnya."
   ]
  },
  {
   "cell_type": "code",
   "execution_count": 21,
   "metadata": {},
   "outputs": [],
   "source": [
    "X_val = val.drop(columns=['y']) # data test\n",
    "y_true = val.y"
   ]
  },
  {
   "cell_type": "code",
   "execution_count": 22,
   "metadata": {},
   "outputs": [
    {
     "name": "stdout",
     "output_type": "stream",
     "text": [
      "KNN Result\n",
      "              precision    recall  f1-score   support\n",
      "\n",
      "          no       0.94      0.75      0.83      4000\n",
      "         yes       0.24      0.62      0.35       521\n",
      "\n",
      "    accuracy                           0.73      4521\n",
      "   macro avg       0.59      0.68      0.59      4521\n",
      "weighted avg       0.86      0.73      0.77      4521\n",
      "\n",
      "SVM Result\n",
      "              precision    recall  f1-score   support\n",
      "\n",
      "          no       0.96      0.77      0.86      4000\n",
      "         yes       0.31      0.77      0.44       521\n",
      "\n",
      "    accuracy                           0.77      4521\n",
      "   macro avg       0.63      0.77      0.65      4521\n",
      "weighted avg       0.89      0.77      0.81      4521\n",
      "\n"
     ]
    }
   ],
   "source": [
    "print('KNN Result')\n",
    "print(classification_report(y_true, knn_model.predict(X_val)))\n",
    "print('SVM Result')\n",
    "print(classification_report(y_true, svm_model.predict(X_val)))"
   ]
  },
  {
   "cell_type": "code",
   "execution_count": 23,
   "metadata": {},
   "outputs": [
    {
     "data": {
      "image/png": "[encoded data removed]",
      "text/plain": [
       "<Figure size 864x360 with 2 Axes>"
      ]
     },
     "metadata": {
      "needs_background": "light"
     },
     "output_type": "display_data"
    }
   ],
   "source": [
    "fig = plt.figure(figsize=(12, 5))\n",
    "\n",
    "plt.subplot(121)\n",
    "labels = np.unique(y_true)\n",
    "cm = confusion_matrix(y_true, knn_model.predict(X_val), labels=labels)\n",
    "sns.heatmap(cm, annot=True, square=True, cmap='Blues', cbar=False, xticklabels=labels, yticklabels=labels,\n",
    "            fmt=\"d\", annot_kws={\"fontsize\": 15})\n",
    "plt.title(f'KNN score: {knn_model.score(X_val, y_true):.3f}', fontsize=14)\n",
    "plt.xlabel('Prediction', fontsize=14)\n",
    "plt.ylabel('Actual', fontsize=14)\n",
    "plt.yticks(rotation=90, verticalalignment='center')\n",
    "\n",
    "plt.subplot(122)\n",
    "labels = np.unique(y_true)\n",
    "cm = confusion_matrix(y_true, svm_model.predict(X_val), labels=labels)\n",
    "sns.heatmap(cm, annot=True, square=True, cmap='Greens', cbar=False, xticklabels=labels, yticklabels=labels,\n",
    "            fmt=\"d\", annot_kws={\"fontsize\": 15})\n",
    "plt.title(f'SVM score: {svm_model.score(X_val, y_true):.3f}', fontsize=14)\n",
    "plt.xlabel('Prediction', fontsize=14)\n",
    "plt.ylabel('Actual', fontsize=14)\n",
    "plt.yticks(rotation=90, verticalalignment='center')\n",
    "plt.show()"
   ]
  },
  {
   "cell_type": "code",
   "execution_count": 24,
   "metadata": {},
   "outputs": [],
   "source": [
    "y_val = y_true.map({'no':0, 'yes':1})"
   ]
  },
  {
   "cell_type": "code",
   "execution_count": 25,
   "metadata": {},
   "outputs": [
    {
     "data": {
      "image/png": "[encoded data removed]",
      "text/plain": [
       "<Figure size 936x432 with 2 Axes>"
      ]
     },
     "metadata": {
      "needs_background": "light"
     },
     "output_type": "display_data"
    }
   ],
   "source": [
    "plt.figure(figsize=(13, 6))\n",
    "\n",
    "plt.subplot(121)\n",
    "prob = knn_model.predict_proba(X_val)[:, 1]\n",
    "fpr, tpr, t_roc = roc_curve(y_val, prob)\n",
    "plt.plot(fpr, tpr, 'b-')\n",
    "plt.plot([0, 1], [0, 1], 'k--')\n",
    "plt.title(f\"KNN ROC_AUC: {auc(fpr, tpr):.3f}\", fontsize=14)\n",
    "plt.xlim(-0.05, 1.05)\n",
    "plt.ylim(-0.05, 1.05)\n",
    "plt.xlabel(\"FPR\")\n",
    "plt.ylabel(\"TPR\")\n",
    "\n",
    "plt.subplot(122)\n",
    "prob = svm_model.predict_proba(X_val)[:, 1]\n",
    "fpr, tpr, t_roc = roc_curve(y_val, prob)\n",
    "plt.plot(fpr, tpr, 'b-')\n",
    "plt.plot([0, 1], [0, 1], 'k--')\n",
    "plt.title(f\"SVM ROC_AUC: {auc(fpr, tpr):.3f}\", fontsize=14)\n",
    "plt.xlim(-0.05, 1.05)\n",
    "plt.ylim(-0.05, 1.05)\n",
    "plt.xlabel(\"FPR\")\n",
    "plt.ylabel(\"TPR\");"
   ]
  },
  {
   "cell_type": "markdown",
   "metadata": {},
   "source": [
    "Dari hasil evaluasi ini didapatkan model SVM menghasilkan akurasi yang cukup tinggi dalam memprediksi output apakah klien tersebut akan melakukan pembelian atau tidak pada kampanye marketing yang dijalankan bank. Dengan adanya model ini tentunya sangat membantu dalam melakukan process marketing. Jadi manager marketing dapat memfokuskan marketing terhadap klien yang mempunyai probabilitas tinggi untuk membeli produk tersebut, sehingga dapat menghemat waktu, tenaga, serta biaya yang dikeluarkan untuk promosi produk."
   ]
  }
 ],
 "metadata": {
  "kernelspec": {
   "display_name": "Python 3 (ipykernel)",
   "language": "python",
   "name": "python3"
  },
  "language_info": {
   "codemirror_mode": {
    "name": "ipython",
    "version": 3
   },
   "file_extension": ".py",
   "mimetype": "text/x-python",
   "name": "python",
   "nbconvert_exporter": "python",
   "pygments_lexer": "ipython3",
   "version": "3.9.7"
  },
  "toc": {
   "base_numbering": 1,
   "nav_menu": {},
   "number_sections": true,
   "sideBar": true,
   "skip_h1_title": false,
   "title_cell": "Table of Contents",
   "title_sidebar": "Contents",
   "toc_cell": false,
   "toc_position": {},
   "toc_section_display": true,
   "toc_window_display": true
  },
  "varInspector": {
   "cols": {
    "lenName": 16,
    "lenType": 16,
    "lenVar": 40
   },
   "kernels_config": {
    "python": {
     "delete_cmd_postfix": "",
     "delete_cmd_prefix": "del ",
     "library": "var_list.py",
     "varRefreshCmd": "print(var_dic_list())"
    },
    "r": {
     "delete_cmd_postfix": ") ",
     "delete_cmd_prefix": "rm(",
     "library": "var_list.r",
     "varRefreshCmd": "cat(var_dic_list()) "
    }
   },
   "types_to_exclude": [
    "module",
    "function",
    "builtin_function_or_method",
    "instance",
    "_Feature"
   ],
   "window_display": false
  }
 },
 "nbformat": 4,
 "nbformat_minor": 4
}
